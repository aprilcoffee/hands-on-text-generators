{
 "cells": [
  {
   "cell_type": "markdown",
   "metadata": {},
   "source": [
    "# N-Order random text generation"
   ]
  },
  {
   "cell_type": "code",
   "execution_count": 1,
   "metadata": {},
   "outputs": [],
   "source": [
    "import random"
   ]
  },
  {
   "cell_type": "markdown",
   "metadata": {},
   "source": [
    "## Zero-Order text generation\n",
    "\n",
    "Pure random choice. Every character is choosen by the same probabilty. No text is used as a base."
   ]
  },
  {
   "cell_type": "markdown",
   "metadata": {},
   "source": [
    "### Create vocabulary"
   ]
  },
  {
   "cell_type": "code",
   "execution_count": 2,
   "metadata": {},
   "outputs": [
    {
     "name": "stdout",
     "output_type": "stream",
     "text": [
      "['A', 'B', 'C', 'D', 'E', 'F', 'G', 'H', 'I', 'J', 'K', 'L', 'M', 'N', 'O', 'P', 'Q', 'R', 'S', 'T', 'U', 'V', 'W', 'X', 'Y', 'Z']\n"
     ]
    }
   ],
   "source": [
    "''' Create a list of all characters between A and Z. '''\n",
    "vocab = [chr(c) for c in range(ord('A'), ord('Z') + 1)]\n",
    "print(vocab)"
   ]
  },
  {
   "cell_type": "code",
   "execution_count": 3,
   "metadata": {},
   "outputs": [
    {
     "name": "stdout",
     "output_type": "stream",
     "text": [
      "['A', 'B', 'C', 'D', 'E', 'F', 'G', 'H', 'I', 'J', 'K', 'L', 'M', 'N', 'O', 'P', 'Q', 'R', 'S', 'T', 'U', 'V', 'W', 'X', 'Y', 'Z', ' ', ',', '.', '!', '?']\n"
     ]
    }
   ],
   "source": [
    "''' Append punctuation and a space. '''\n",
    "for punct in [' ', ',', '.', '!', '?']:\n",
    "    vocab.append(punct)\n",
    "\n",
    "print(vocab)"
   ]
  },
  {
   "cell_type": "code",
   "execution_count": 4,
   "metadata": {},
   "outputs": [
    {
     "data": {
      "text/plain": [
       "31"
      ]
     },
     "execution_count": 4,
     "metadata": {},
     "output_type": "execute_result"
    }
   ],
   "source": [
    "len(vocab)"
   ]
  },
  {
   "cell_type": "code",
   "execution_count": 6,
   "metadata": {},
   "outputs": [
    {
     "name": "stdout",
     "output_type": "stream",
     "text": [
      "17\n"
     ]
    },
    {
     "data": {
      "text/plain": [
       "'R'"
      ]
     },
     "execution_count": 6,
     "metadata": {},
     "output_type": "execute_result"
    }
   ],
   "source": [
    "''' Get a random token. '''\n",
    "index = random.randint(0, len(vocab) -1)\n",
    "print(index)\n",
    "vocab[index]"
   ]
  },
  {
   "cell_type": "markdown",
   "metadata": {},
   "source": [
    "### Generate zero-order random text"
   ]
  },
  {
   "cell_type": "code",
   "execution_count": 8,
   "metadata": {},
   "outputs": [
    {
     "name": "stdout",
     "output_type": "stream",
     "text": [
      " HXTHWMHIOAMVX MIHYPHMMSM?AZDAZJJVR!??PJKARGMVE ZXSU??MBBJJU\n"
     ]
    }
   ],
   "source": [
    "generated_text = ''\n",
    "\n",
    "for i in range(60):\n",
    "    generated_text += vocab[random.randint(0, len(vocab)) -1]\n",
    "\n",
    "print(generated_text)"
   ]
  },
  {
   "cell_type": "markdown",
   "metadata": {},
   "source": [
    "## First-Order text generation\n",
    "\n",
    "Probabilities are drawn from a text analysis. Characters that appear more often in the text will have a higher probability to be chosen."
   ]
  },
  {
   "cell_type": "code",
   "execution_count": 10,
   "metadata": {},
   "outputs": [
    {
     "name": "stdout",
     "output_type": "stream",
     "text": [
      "\n",
      "– Die POESIE ist zweckfrei.\n",
      "(Schon das macht sie zur Irritation.)\n",
      "\n",
      "– Die POESIE muss kein Kabinett bilden, zum Beispiel, und muss nicht von einer analphabetischen Mehrheit gewählt werden.\n",
      "\n",
      "– Die POESIE ist da oder manchmal auch nicht.\n",
      "(Regierungen sind immer da.)\n",
      "\n",
      "– Die POESIE kann ignoriert werden.\n",
      "(Ohne dass die Polizei deswegen eingreift.)\n",
      "\n",
      "– Die POESIE entsteht trotzdem da und dort.\n",
      "\n",
      "– Die POESIE ist der Durchbruch zur genuinen Erfahrung unsrer menschlichen Existenz in ihrer geschichtlichen Bedingtheit. Sie befreit uns zur Spontaneität – was beides sein kann: Glück oder Schrecken.\n",
      "(Regierungen wollen immer nur unser Glück.)\n",
      "\n",
      "– Die POESIE macht uns betroffen.\n",
      "(Lebendig.)\n",
      "\n",
      "– Die POESIE unterwandert unser ideologisiertes Bewusstsein und insofoern ist sie subversiv in jedem gesellschaftlichen System.\n",
      "(Platon hat natürlich recht: der Poet ist als Staatsbürger dubios, auch wenn er seine Steuern zahlt, auch wenn er als Soldat gehorcht, damit er nicht von seinen eignen Leuten erschossen wird; solange er aber nicht erschossen ist, bleibt er ein Poet.)\n",
      "\n",
      "– Die POESIE muss keine Massnahmen ergreifen.\n",
      "(Sie muss nur Poesie sein.)\n",
      "\n",
      "– Die POESIE findet sich nicht ab (im Gegensatz zur Politik) mit dem Machbaren; sie kann nicht lassen von der Trauer, dass das Menschsein auf dieser Erde nicht anders ist.\n",
      "\n",
      "– Die POESIE sagt nicht, wohin mit dem Atom-Müll.\n",
      "(Rezepte sind von ihr nicht zu erwarten.)\n",
      "\n",
      "– Die POESIE ist arrogant.\n",
      "(Sie entzieht sich der Pflicht, die Welt zu regieren.)\n",
      "\n",
      "– Die POESIE ist unbrauchbar.\n",
      "(Es genügt ihr, dass sie da ist: als Ausdruck unseres profunden Ungenügens und unsrer profunden Sehnsucht.)\n",
      "\n",
      "– Die POESIE wahrt die Utopie.\n",
      "\n"
     ]
    }
   ],
   "source": [
    "''' Frisch, Max. Schwarzes Quadrat. Zwei Poetikvorlesungen. Frankfurt am Main: Suhrkamp, 2008. 73-74. '''\n",
    "\n",
    "txt = '''\n",
    "– Die POESIE ist zweckfrei.\n",
    "(Schon das macht sie zur Irritation.)\n",
    "\n",
    "– Die POESIE muss kein Kabinett bilden, zum Beispiel, und muss nicht von einer analphabetischen Mehrheit gewählt werden.\n",
    "\n",
    "– Die POESIE ist da oder manchmal auch nicht.\n",
    "(Regierungen sind immer da.)\n",
    "\n",
    "– Die POESIE kann ignoriert werden.\n",
    "(Ohne dass die Polizei deswegen eingreift.)\n",
    "\n",
    "– Die POESIE entsteht trotzdem da und dort.\n",
    "\n",
    "– Die POESIE ist der Durchbruch zur genuinen Erfahrung unsrer menschlichen Existenz in ihrer geschichtlichen Bedingtheit. Sie befreit uns zur Spontaneität – was beides sein kann: Glück oder Schrecken.\n",
    "(Regierungen wollen immer nur unser Glück.)\n",
    "\n",
    "– Die POESIE macht uns betroffen.\n",
    "(Lebendig.)\n",
    "\n",
    "– Die POESIE unterwandert unser ideologisiertes Bewusstsein und insofoern ist sie subversiv in jedem gesellschaftlichen System.\n",
    "(Platon hat natürlich recht: der Poet ist als Staatsbürger dubios, auch wenn er seine Steuern zahlt, auch wenn er als Soldat gehorcht, damit er nicht von seinen eignen Leuten erschossen wird; solange er aber nicht erschossen ist, bleibt er ein Poet.)\n",
    "\n",
    "– Die POESIE muss keine Massnahmen ergreifen.\n",
    "(Sie muss nur Poesie sein.)\n",
    "\n",
    "– Die POESIE findet sich nicht ab (im Gegensatz zur Politik) mit dem Machbaren; sie kann nicht lassen von der Trauer, dass das Menschsein auf dieser Erde nicht anders ist.\n",
    "\n",
    "– Die POESIE sagt nicht, wohin mit dem Atom-Müll.\n",
    "(Rezepte sind von ihr nicht zu erwarten.)\n",
    "\n",
    "– Die POESIE ist arrogant.\n",
    "(Sie entzieht sich der Pflicht, die Welt zu regieren.)\n",
    "\n",
    "– Die POESIE ist unbrauchbar.\n",
    "(Es genügt ihr, dass sie da ist: als Ausdruck unseres profunden Ungenügens und unsrer profunden Sehnsucht.)\n",
    "\n",
    "– Die POESIE wahrt die Utopie.\n",
    "'''\n",
    "print(txt)"
   ]
  },
  {
   "cell_type": "code",
   "execution_count": 14,
   "metadata": {},
   "outputs": [
    {
     "name": "stdout",
     "output_type": "stream",
     "text": [
      "geI diem a.\n",
      " ndsnc,lar tnihr–nlsn esekirscnr dtD(e"
     ]
    }
   ],
   "source": [
    "''' The easiest method is to simply store all characters in a list.\n",
    "Characters that appear often in the text are more often stored in the list\n",
    "and thus picked more often. '''\n",
    "\n",
    "characters = [c for c in txt]\n",
    "\n",
    "for i in range(50):\n",
    "    print(random.choice(characters), end='')"
   ]
  }
 ],
 "metadata": {
  "kernelspec": {
   "display_name": "Python 3",
   "language": "python",
   "name": "python3"
  },
  "language_info": {
   "codemirror_mode": {
    "name": "ipython",
    "version": 3
   },
   "file_extension": ".py",
   "mimetype": "text/x-python",
   "name": "python",
   "nbconvert_exporter": "python",
   "pygments_lexer": "ipython3",
   "version": "3.8.5"
  }
 },
 "nbformat": 4,
 "nbformat_minor": 4
}
